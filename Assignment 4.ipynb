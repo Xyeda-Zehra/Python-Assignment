{
 "cells": [
  {
   "cell_type": "code",
   "execution_count": 13,
   "metadata": {},
   "outputs": [
    {
     "name": "stdout",
     "output_type": "stream",
     "text": [
      "First_Name:Xyeda\n",
      "Last_Name:Zainab\n",
      "Age:21\n",
      "City:Karachi\n",
      "\n",
      " * Add Qualification * \n",
      "\n",
      "First_Name:Xyeda\n",
      "Last_Name:Zainab\n",
      "Age:21\n",
      "City:Karachi\n",
      "Qualification:Under Graduate\n",
      "\n",
      " * Update Qualification * \n",
      "\n",
      "First_Name : Xyeda\n",
      "Last_Name : Zainab\n",
      "Age : 21\n",
      "City : Karachi\n",
      "Qualification : Masters\n"
     ]
    }
   ],
   "source": [
    "\n",
    "#Question1:\n",
    "Dic_Person={\"First_Name\" : \"Xyeda\", \"Last_Name\" : \"Zainab\", \"Age\": \"21\", \"City\" : \"Karachi\"}\n",
    "for key, value in Dic_Person.items():\n",
    "    print(key + \":\" + value)\n",
    "print(\"\\n * Add Qualification * \\n\")\n",
    "Dic_Person[\"Qualification\"] = \"Under Graduate\"   \n",
    "for key, value in Dic_Person.items():\n",
    "    print(key + \":\" + value)\n",
    "print(\"\\n * Update Qualification * \\n\")\n",
    "Dic_Person[\"Qualification\"]=\"Masters\"\n",
    "for key, value in Dic_Person.items():\n",
    "    print(key+\" : \"+value)\n"
   ]
  },
  {
   "cell_type": "code",
   "execution_count": 2,
   "metadata": {},
   "outputs": [
    {
     "name": "stdout",
     "output_type": "stream",
     "text": [
      "\n",
      "Karachi\n",
      "\n",
      "Country : Pakistan\n",
      "Population : 15741000\n",
      "Fact : Interesting Facts about Karachi are: \n",
      "       It is the Sixth largest city in the world by city population \n",
      "       Karachi is among the cheapest city to live in.\n",
      "\n",
      "Quetta\n",
      "\n",
      "Country : Pakistan\n",
      "Population : 1001205\n",
      "Fact : The immediate area has long been one of pastures and mountains, with varied plants and animals relative to the dry plains to the west. \n",
      "\n",
      "Islamabad\n",
      "\n",
      "Country : Pakistan\n",
      "Population : 1095064\n",
      "Fact : The architect of Islamabad Pictured here is Greek architect-engineer and town planner Dr. Constantinos Apostolou Doxiadis presenting his first ideas for the Master Plan of Islamabad\n"
     ]
    }
   ],
   "source": [
    "#Question2:\n",
    "cities ={\n",
    "    \"Karachi\":{\n",
    "        \"Country\" : \"Pakistan\",\n",
    "        \"Population\" :15741000,\n",
    "        \"Fact\": \"Interesting Facts about Karachi are: \\n       It is the Sixth largest city in the world by city population \\n       Karachi is among the cheapest city to live in.\"\n",
    "    },\n",
    "    \n",
    "    \"Quetta\":{\n",
    "         \"Country\" : \"Pakistan\",\n",
    "         \"Population\" : 1001205,\n",
    "         \"Fact\" : \"The immediate area has long been one of pastures and mountains, with varied plants and animals relative to the dry plains to the west. \"\n",
    "    },\n",
    "    \"Islamabad\":{\n",
    "         \"Country\" : \"Pakistan\",\n",
    "         \"Population\" : 1095064,\n",
    "         \"Fact\" : \"The architect of Islamabad Pictured here is Greek architect-engineer and town planner Dr. Constantinos Apostolou Doxiadis presenting his first ideas for the Master Plan of Islamabad\"\n",
    "    \n",
    "    }\n",
    "}\n",
    "\n",
    "\n",
    "for citykey,cityinfo in cities.items():\n",
    "    print(\"\\n\"+citykey+\"\\n\")\n",
    "    for city in cityinfo:\n",
    "        print(city+\" : \"+str(cityinfo[city]))"
   ]
  },
  {
   "cell_type": "code",
   "execution_count": 1,
   "metadata": {},
   "outputs": [
    {
     "name": "stdout",
     "output_type": "stream",
     "text": [
      "Enter age : 12\n",
      "Ticket is 10$\n",
      "Are you want to take ticket y/n: n\n"
     ]
    }
   ],
   "source": [
    "#Question3:\n",
    "ticket='y'\n",
    "while ticket!='n':\n",
    "    age=int(input(\"Enter age : \"))\n",
    "    if age>12:\n",
    "        print(\"Ticket is 15$\")\n",
    "    elif age>=3:\n",
    "        print(\"Ticket is 10$\")\n",
    "    else:\n",
    "        print(\"Ticket is free\")\n",
    "    ticket=input(\"Are you want to take ticket y/n: \")"
   ]
  },
  {
   "cell_type": "code",
   "execution_count": 2,
   "metadata": {},
   "outputs": [
    {
     "name": "stdout",
     "output_type": "stream",
     "text": [
      "Beauty And The Beast.\n"
     ]
    }
   ],
   "source": [
    "#Question4:\n",
    "def fav_book(title):\n",
    "    print(title)\n",
    "book_title=\"Beauty And The Beast.\"\n",
    "if(len(book_title)!=0):\n",
    "    fav_book(book_title)\n",
    "else:\n",
    "    print(\"Please populate the book title\")"
   ]
  },
  {
   "cell_type": "code",
   "execution_count": 3,
   "metadata": {},
   "outputs": [
    {
     "name": "stdout",
     "output_type": "stream",
     "text": [
      "Enter the Guess Number: 4\n",
      "You Guess Lower Number\n",
      "Computer's Guess Number:  17\n",
      "Enter the Guess Number: 1\n",
      "You Guess Lower Number\n",
      "Computer's Guess Number:  15\n",
      "Enter the Guess Number: 4\n",
      "You Guess Lower Number\n",
      "Computer's Guess Number:  19\n"
     ]
    }
   ],
   "source": [
    "#Question5:\n",
    "import random\n",
    "count = 0\n",
    "while count < 3:\n",
    "    guess = int(input(\"Enter the Guess Number: \"))\n",
    "    count += 1\n",
    "    rand = random.randint(1,30)\n",
    "    if guess == rand:\n",
    "        print(\"You Guess Correct Number\")\n",
    "    elif guess > rand:\n",
    "        print(\"You Guess Higher Number\")\n",
    "    elif guess < rand:\n",
    "        print(\"You Guess Lower Number\")\n",
    "    print(\"Computer's Guess Number: \",rand)\n"
   ]
  },
  {
   "cell_type": "code",
   "execution_count": null,
   "metadata": {},
   "outputs": [],
   "source": []
  }
 ],
 "metadata": {
  "kernelspec": {
   "display_name": "Python 3",
   "language": "python",
   "name": "python3"
  },
  "language_info": {
   "codemirror_mode": {
    "name": "ipython",
    "version": 3
   },
   "file_extension": ".py",
   "mimetype": "text/x-python",
   "name": "python",
   "nbconvert_exporter": "python",
   "pygments_lexer": "ipython3",
   "version": "3.7.4"
  }
 },
 "nbformat": 4,
 "nbformat_minor": 2
}
