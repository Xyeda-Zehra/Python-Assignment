{
 "cells": [
  {
   "cell_type": "code",
   "execution_count": null,
   "metadata": {},
   "outputs": [],
   "source": [
    "## Question 1\n",
    "Define Object Oriented Programming Language? \n",
    "\n",
    "Object-oriented programming is a programming paradigm based on the concept of \"objects\", \n",
    "which can contain data, in the form of fields, and code, in the form of procedures. \n",
    "A feature of objects is an object's procedures that can access and often modify the data fields of the \n",
    "object with which they are associated."
   ]
  },
  {
   "cell_type": "code",
   "execution_count": null,
   "metadata": {},
   "outputs": [],
   "source": [
    "##Question 2\n",
    "List down the Benefits of OOP? \n",
    "Advantages of OOP:\n",
    "\n",
    "1) It provides a clear modular structure for programs which makes it good for defining abstract datatypes in which implementation details are hidden\n",
    "2) Objects can also be reused within an across applications. The reuse of software also lowers the cost of development. More effort is put into the object-oriented analysis and design, which lowers the overall cost of development.\n",
    "3) It makes software easier to maintain. Since the design is modular, part of the system can be updated in case of issues without a need to make large-scale changes\n",
    "   Reuse also enables faster development. Object-...\n"
   ]
  },
  {
   "cell_type": "code",
   "execution_count": null,
   "metadata": {},
   "outputs": [],
   "source": [
    "## Question 3\n",
    "Differentiate between function and method? \n",
    "\n",
    "A function is a piece of code that is called by name. It can be passed data to operate on (i.e. the parameters) \n",
    "and can optionally return data (the return value). All data that is passed to a function is explicitly passed. \n",
    "A method is a piece of code that is called by a name that is associated with an object."
   ]
  },
  {
   "cell_type": "code",
   "execution_count": null,
   "metadata": {},
   "outputs": [],
   "source": [
    "## Question 4 \n",
    "Define the following terms: \n",
    "    \n",
    "    1. Class \n",
    "    A class is a code template for creating objects.In python a class is created by the keyword class .\n",
    "    \n",
    "    2. Object \n",
    "    Objects have member variables and have behaviour associated with them. An object is created using the constructor of the class. \n",
    "    This object will then be called the instance of the class.\n",
    "    \n",
    "    3. Attribute \n",
    "    An attribute is defined as a quality or characteristic of a person, place, or thing. Real life individuals and \n",
    "    fictional characters possess various attributes. ... There is a difference between attributes and traits, \n",
    "    but it is slight and some characteristics could be considered either an attribute or a trait.\n",
    "    \n",
    "    4. Behavior \n",
    "    Behave is one of the most popular BDD frameworks in Python. \n",
    "    It is very similar to other Gherkin-based Cucumber frameworks despite not holding the official Cucumber designation. \n",
    "    behave has two primary layers: Behavior specs written in Gherkin ."
   ]
  },
  {
   "cell_type": "code",
   "execution_count": null,
   "metadata": {},
   "outputs": [],
   "source": [
    "## Question 5\n",
    "Write a code in python in which create a class named it Car which have 5 attributes such like (model, color and name etc.) \n",
    "and 3 methods. And create 5 object instance from that class\n",
    "\n",
    "class Car:\n",
    "\n",
    "    # create class attributes\n",
    "    name = \"c200\"\n",
    "    make = \"mercedez\"\n",
    "    model = 2008\n",
    "\n",
    "    # create class methods\n",
    "    def start(self):\n",
    "        print (\"Engine started\")\n",
    "\n",
    "    def stop(self):\n",
    "        print (\"Engine switched off\")"
   ]
  }
 ],
 "metadata": {
  "kernelspec": {
   "display_name": "Python 3",
   "language": "python",
   "name": "python3"
  },
  "language_info": {
   "codemirror_mode": {
    "name": "ipython",
    "version": 3
   },
   "file_extension": ".py",
   "mimetype": "text/x-python",
   "name": "python",
   "nbconvert_exporter": "python",
   "pygments_lexer": "ipython3",
   "version": "3.7.4"
  }
 },
 "nbformat": 4,
 "nbformat_minor": 2
}
