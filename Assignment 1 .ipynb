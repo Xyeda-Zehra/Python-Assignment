{
 "cells": [
  {
   "cell_type": "code",
   "execution_count": 1,
   "metadata": {},
   "outputs": [
    {
     "name": "stdout",
     "output_type": "stream",
     "text": [
      "Twinkle, twinkle, little star,\n",
      "      How I wonder what you are\n",
      "         up above the world sky high,\n",
      "         like a dimond in the sky.\n",
      "Twinkle, twinkle, little star,\n",
      "      How I wonder what you are\n"
     ]
    }
   ],
   "source": [
    "T = \"Twinkle\"\n",
    "t = \"twinkle\"\n",
    "l = \"little\"\n",
    "s = \"star\"\n",
    "h = \"How\"\n",
    "i = \"I\"\n",
    "w = \"wonder\"\n",
    "w1 = \"what\"\n",
    "y = \"you\" \n",
    "a = \"are\"\n",
    "u = \"up\"\n",
    "a2 = \"above\"\n",
    "t1 = \"the\"\n",
    "w2 = \"world\"\n",
    "s1 = \"so\"\n",
    "h1 = \"high\"\n",
    "l1 = \"like\"\n",
    "a1 = \"a\"\n",
    "d = \"dimond\"\n",
    "i1 = \"in\"\n",
    "s1 = \"sky\"\n",
    "print(T + \",\" + \" \" + t + \",\" + \" \" + l + \" \" + s + \",\" + \"\\n\" \" \" + \" \" + \" \" + \" \" + \" \" + \" \" + h + \" \" + i + \" \" + w + \" \"\n",
    "     + w1 + \" \" + y + \" \" + a )\n",
    "print(\" \" + \" \" + \" \" +\" \" +\" \" +\" \" + \" \" +\" \" +\" \" + u + \" \" + a2 + \" \" + t1 + \" \" + w2 + \" \" + s1 + \" \" + h1+ \",\")\n",
    "print(\" \" + \" \" + \" \" +\" \" +\" \" +\" \" + \" \" +\" \" +\" \" + l1 + \" \" + a1 + \" \" + d + \" \" + i1 + \" \" + t1 + \" \" + s1+ \".\")\n",
    "print(T + \",\" + \" \" + t + \",\" + \" \" + l + \" \" + s + \",\" + \"\\n\" \" \" + \" \" + \" \" + \" \" + \" \" + \" \" + h + \" \" + i + \" \" + w + \" \"\n",
    "     + w1 + \" \" + y + \" \" + a )"
   ]
  },
  {
   "cell_type": "code",
   "execution_count": 2,
   "metadata": {},
   "outputs": [
    {
     "name": "stdout",
     "output_type": "stream",
     "text": [
      "Given String:  Xyeda Zehra\n",
      "Reversed String:  arheZ adeyX\n"
     ]
    }
   ],
   "source": [
    "def reverse(str):\n",
    "    s = \"\"\n",
    "    for ch in str:\n",
    "        s = ch + s\n",
    "    return s\n",
    "\n",
    "mystr = \"Xyeda Zehra\"\n",
    "print(\"Given String: \", mystr)\n",
    "\n",
    "print(\"Reversed String: \", reverse(mystr))"
   ]
  },
  {
   "cell_type": "code",
   "execution_count": 3,
   "metadata": {},
   "outputs": [
    {
     "name": "stdout",
     "output_type": "stream",
     "text": [
      "Python version\n",
      "3.7.3 (default, Apr 24 2019, 13:20:13) [MSC v.1915 32 bit (Intel)]\n",
      "Version info.\n",
      "sys.version_info(major=3, minor=7, micro=3, releaselevel='final', serial=0)\n"
     ]
    }
   ],
   "source": [
    "import sys\n",
    "print(\"Python version\")\n",
    "print (sys.version)\n",
    "print(\"Version info.\")\n",
    "print (sys.version_info)"
   ]
  },
  {
   "cell_type": "code",
   "execution_count": 4,
   "metadata": {},
   "outputs": [
    {
     "name": "stdout",
     "output_type": "stream",
     "text": [
      "Current date and time : \n",
      "2019-11-03 08:09:42\n"
     ]
    }
   ],
   "source": [
    "import datetime\n",
    "now = datetime.datetime.now()\n",
    "print (\"Current date and time : \")\n",
    "print (now.strftime(\"%Y-%m-%d %H:%M:%S\"))\n"
   ]
  },
  {
   "cell_type": "code",
   "execution_count": 5,
   "metadata": {},
   "outputs": [
    {
     "name": "stdout",
     "output_type": "stream",
     "text": [
      "Input the radius of the circle : 5\n",
      "The area of the circle with radius 5.0 is: 78.53981633974483\n"
     ]
    }
   ],
   "source": [
    "from math import pi\n",
    "r = float(input (\"Input the radius of the circle : \"))\n",
    "print (\"The area of the circle with radius \" + str(r) + \" is: \" + str(pi * r**2))"
   ]
  },
  {
   "cell_type": "code",
   "execution_count": 6,
   "metadata": {},
   "outputs": [
    {
     "name": "stdout",
     "output_type": "stream",
     "text": [
      "Enter first number: 10\n",
      "Enter second number: 10\n",
      "The sum of 10 and 10 is 20.0\n"
     ]
    }
   ],
   "source": [
    "num1 = input('Enter first number: ')\n",
    "num2 = input('Enter second number: ')\n",
    "sum = float(num1) + float(num2)\n",
    "print('The sum of {0} and {1} is {2}'.format(num1, num2, sum))"
   ]
  },
  {
   "cell_type": "markdown",
   "metadata": {},
   "source": [
    "# "
   ]
  }
 ],
 "metadata": {
  "kernelspec": {
   "display_name": "Python 3",
   "language": "python",
   "name": "python3"
  },
  "language_info": {
   "codemirror_mode": {
    "name": "ipython",
    "version": 3
   },
   "file_extension": ".py",
   "mimetype": "text/x-python",
   "name": "python",
   "nbconvert_exporter": "python",
   "pygments_lexer": "ipython3",
   "version": "3.7.3"
  }
 },
 "nbformat": 4,
 "nbformat_minor": 2
}
